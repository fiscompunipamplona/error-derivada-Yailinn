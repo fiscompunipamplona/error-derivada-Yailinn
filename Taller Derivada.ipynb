{
 "cells": [
  {
   "cell_type": "markdown",
   "metadata": {},
   "source": [
    "# Derivadas"
   ]
  },
  {
   "cell_type": "markdown",
   "metadata": {},
   "source": [
    "Sea $f(x)=x(x-1)$ "
   ]
  },
  {
   "cell_type": "markdown",
   "metadata": {},
   "source": [
    "a) Calcular la derivada por su definición de límite con un error de $\\delta=10^{-2}$"
   ]
  },
  {
   "cell_type": "code",
   "execution_count": 9,
   "metadata": {},
   "outputs": [
    {
     "name": "stdout",
     "output_type": "stream",
     "text": [
      "El valor de la derivada por definición de límite es f´(x) = 1.010000000000001\n"
     ]
    }
   ],
   "source": [
    "d=1e-2\n",
    "x=1\n",
    "dev=(((x+d)*(x+d-1))-(x*(x-1)))/d\n",
    "print('El valor de la derivada por definición de límite es f´(x) =',dev)"
   ]
  },
  {
   "cell_type": "markdown",
   "metadata": {},
   "source": [
    "b) Comparar el resultado obtenido con el resultado analítico"
   ]
  },
  {
   "cell_type": "code",
   "execution_count": 10,
   "metadata": {},
   "outputs": [
    {
     "name": "stdout",
     "output_type": "stream",
     "text": [
      "El valor de la derivada es f´(x) = 1\n"
     ]
    }
   ],
   "source": [
    "x=1\n",
    "anlt=(x-1)+x\n",
    "print('El valor de la derivada es f´(x) =',anlt)"
   ]
  },
  {
   "cell_type": "code",
   "execution_count": 11,
   "metadata": {},
   "outputs": [
    {
     "name": "stdout",
     "output_type": "stream",
     "text": [
      "1.0000000000000897\n"
     ]
    }
   ],
   "source": [
    "error=abs(anlt-dev)*100\n",
    "print(error)"
   ]
  },
  {
   "cell_type": "markdown",
   "metadata": {},
   "source": [
    "Comparando el resultado del inciso a) con el resultado analítico  se obtiene un error de 1%, es decir, un error muy pequeño pues aproximadamente los resultados son iguales solo que para el inciso a) nos muestran 16 valores después de la coma debido a que python corta en 16/17 bits."
   ]
  },
  {
   "cell_type": "markdown",
   "metadata": {},
   "source": [
    "c) Calcular la derivada con errores de $\\delta=10^{-2}$ hasta $\\delta=10^{-14}$ con un paso de 2."
   ]
  },
  {
   "cell_type": "code",
   "execution_count": 12,
   "metadata": {},
   "outputs": [
    {
     "name": "stdout",
     "output_type": "stream",
     "text": [
      "Los errorer a tener en cuenta son los siguientes\n",
      " d =  [0.01, 0.0001, 1e-06, 1e-08, 1e-10, 1e-12, 1e-14]\n",
      "\n",
      "Los valores para cada valor de d son:\n",
      "\n",
      "Para d =  0.01  \n",
      "El valor de la derivada es f´(x) = 1.010000000000001 \n",
      "Con un error de  1.0000000000000897 %\n",
      "\n",
      "Para d =  0.0001  \n",
      "El valor de la derivada es f´(x) = 1.0000999999998899 \n",
      "Con un error de  0.009999999988985486 %\n",
      "\n",
      "Para d =  1e-06  \n",
      "El valor de la derivada es f´(x) = 1.0000009999177333 \n",
      "Con un error de  9.99917733279787e-05 %\n",
      "\n",
      "Para d =  1e-08  \n",
      "El valor de la derivada es f´(x) = 1.0000000039225287 \n",
      "Con un error de  3.9225287462585356e-07 %\n",
      "\n",
      "Para d =  1e-10  \n",
      "El valor de la derivada es f´(x) = 1.000000082840371 \n",
      "Con un error de  8.284037100736441e-06 %\n",
      "\n",
      "Para d =  1e-12  \n",
      "El valor de la derivada es f´(x) = 1.0000889005833413 \n",
      "Con un error de  0.008890058334132256 %\n",
      "\n",
      "Para d =  1e-14  \n",
      "El valor de la derivada es f´(x) = 0.9992007221626509 \n",
      "Con un error de  0.07992778373491216 %\n"
     ]
    }
   ],
   "source": [
    "x=1\n",
    "d=[]\n",
    "for i in range(2,16,2):\n",
    "    a=10**-i\n",
    "    d.append(a)\n",
    "print ('Los errorer a tener en cuenta son los siguientes\\n d = ',d)\n",
    "print('\\nLos valores para cada valor de d son:')\n",
    "for i in d:\n",
    "    dev=(((x+i)*(x+i-1))-(x*(x-1)))/i\n",
    "    error=abs(anlt-dev)*100\n",
    "    print('\\nPara d = ',i,' \\nEl valor de la derivada es f´(x) =',dev,'\\nCon un error de ',error,'%')"
   ]
  },
  {
   "cell_type": "markdown",
   "metadata": {},
   "source": [
    "En los cálculos anteriores se puede observar claramente que a medida que el error $\\delta$ disminuye, el valor de la derivada es mucho más preciso en comparación con el valor analítico hasta un $\\delta=10^{-8}$ pues al tomar valores mucho menores a este, el cálculo de la derivada empieza a aumentar en relación a su valor analítico, notando que incluso a partir de $\\delta=10^{-14}$ la derivada es menor a 1 y ya en $\\delta=10^{-16}$ el valor de la derivada es 0, lo cual no corresponde con el valor real."
   ]
  },
  {
   "cell_type": "code",
   "execution_count": 13,
   "metadata": {},
   "outputs": [
    {
     "name": "stdout",
     "output_type": "stream",
     "text": [
      "El valor de la derivada con d =  1e-16 por definición de límite es f´(x) = 0.0\n"
     ]
    }
   ],
   "source": [
    "d=1e-16\n",
    "x=1\n",
    "dev=(((x+d)*(x+d-1))-(x*(x-1)))/d\n",
    "print('El valor de la derivada con d = ',d,'por definición de límite es f´(x) =',dev)"
   ]
  },
  {
   "cell_type": "code",
   "execution_count": null,
   "metadata": {},
   "outputs": [],
   "source": []
  }
 ],
 "metadata": {
  "kernelspec": {
   "display_name": "Python 3",
   "language": "python",
   "name": "python3"
  },
  "language_info": {
   "codemirror_mode": {
    "name": "ipython",
    "version": 3
   },
   "file_extension": ".py",
   "mimetype": "text/x-python",
   "name": "python",
   "nbconvert_exporter": "python",
   "pygments_lexer": "ipython3",
   "version": "3.5.2"
  }
 },
 "nbformat": 4,
 "nbformat_minor": 2
}
